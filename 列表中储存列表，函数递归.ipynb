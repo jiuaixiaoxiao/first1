{
 "cells": [
  {
   "cell_type": "code",
   "execution_count": 1,
   "metadata": {
    "collapsed": false
   },
   "outputs": [
    {
     "name": "stdout",
     "output_type": "stream",
     "text": [
      "['cleese', 'palin', 'jones', 'idle']\n"
     ]
    }
   ],
   "source": [
    "cast=[\"cleese\",\"palin\",\"jones\",\"idle\"]\n",
    "print(cast)"
   ]
  },
  {
   "cell_type": "code",
   "execution_count": 2,
   "metadata": {
    "collapsed": false
   },
   "outputs": [
    {
     "name": "stdout",
     "output_type": "stream",
     "text": [
      "4\n"
     ]
    }
   ],
   "source": [
    "print(len(cast))"
   ]
  },
  {
   "cell_type": "code",
   "execution_count": 3,
   "metadata": {
    "collapsed": false
   },
   "outputs": [
    {
     "name": "stdout",
     "output_type": "stream",
     "text": [
      "palin\n"
     ]
    }
   ],
   "source": [
    "print(cast[1])"
   ]
  },
  {
   "cell_type": "code",
   "execution_count": 4,
   "metadata": {
    "collapsed": false
   },
   "outputs": [
    {
     "name": "stdout",
     "output_type": "stream",
     "text": [
      "['cleese', 'palin', 'jones', 'idle', 'gilliam']\n"
     ]
    }
   ],
   "source": [
    "cast.append(\"gilliam\")\n",
    "print(cast)"
   ]
  },
  {
   "cell_type": "code",
   "execution_count": 5,
   "metadata": {
    "collapsed": false,
    "scrolled": false
   },
   "outputs": [
    {
     "data": {
      "text/plain": [
       "'gilliam'"
      ]
     },
     "execution_count": 5,
     "metadata": {},
     "output_type": "execute_result"
    }
   ],
   "source": [
    "cast.pop()"
   ]
  },
  {
   "cell_type": "code",
   "execution_count": 6,
   "metadata": {
    "collapsed": false
   },
   "outputs": [
    {
     "name": "stdout",
     "output_type": "stream",
     "text": [
      "['cleese', 'palin', 'jones', 'idle']\n"
     ]
    }
   ],
   "source": [
    "print(cast)"
   ]
  },
  {
   "cell_type": "code",
   "execution_count": 7,
   "metadata": {
    "collapsed": false
   },
   "outputs": [
    {
     "name": "stdout",
     "output_type": "stream",
     "text": [
      "['cleese', 'palin', 'jones', 'idle', 'gilliam', 'chapman']\n"
     ]
    }
   ],
   "source": [
    "cast.extend([\"gilliam\",\"chapman\"])\n",
    "print(cast)"
   ]
  },
  {
   "cell_type": "code",
   "execution_count": 8,
   "metadata": {
    "collapsed": false
   },
   "outputs": [
    {
     "name": "stdout",
     "output_type": "stream",
     "text": [
      "['cleese', 'palin', 'jones', 'idle', 'gilliam']\n"
     ]
    }
   ],
   "source": [
    "cast.remove(\"chapman\")\n",
    "print(cast)"
   ]
  },
  {
   "cell_type": "code",
   "execution_count": 9,
   "metadata": {
    "collapsed": false
   },
   "outputs": [
    {
     "name": "stdout",
     "output_type": "stream",
     "text": [
      "['chapman', 'cleese', 'palin', 'jones', 'idle', 'gilliam']\n"
     ]
    }
   ],
   "source": [
    "cast.insert(0,\"chapman\")\n",
    "print(cast)"
   ]
  },
  {
   "cell_type": "code",
   "execution_count": 15,
   "metadata": {
    "collapsed": false
   },
   "outputs": [
    {
     "name": "stdout",
     "output_type": "stream",
     "text": [
      "chapman\n",
      "cleese\n",
      "palin\n",
      "jones\n",
      "idle\n",
      "gilliam\n"
     ]
    }
   ],
   "source": [
    "for each in cast:\n",
    "    print(each)"
   ]
  },
  {
   "cell_type": "code",
   "execution_count": 12,
   "metadata": {
    "collapsed": false
   },
   "outputs": [
    {
     "name": "stdout",
     "output_type": "stream",
     "text": [
      "chapman\n",
      "cleese\n",
      "palin\n",
      "jones\n",
      "idle\n",
      "gilliam\n"
     ]
    }
   ],
   "source": [
    "count=0\n",
    "while count<len(cast):\n",
    "    print(cast[count])\n",
    "    count=count+1"
   ]
  },
  {
   "cell_type": "code",
   "execution_count": 19,
   "metadata": {
    "collapsed": false
   },
   "outputs": [
    {
     "name": "stdout",
     "output_type": "stream",
     "text": [
      "['aaa', 'bbb', 'ccc']\n"
     ]
    }
   ],
   "source": [
    "cast=['aaa','bbb','ccc']\n",
    "print(cast)"
   ]
  },
  {
   "cell_type": "code",
   "execution_count": 23,
   "metadata": {
    "collapsed": false
   },
   "outputs": [
    {
     "name": "stdout",
     "output_type": "stream",
     "text": [
      "['aaa', 'bbb', 'ccc', '\"', '\"']\n"
     ]
    }
   ],
   "source": [
    "cast.append('\"')\n",
    "print(cast)"
   ]
  },
  {
   "cell_type": "code",
   "execution_count": 4,
   "metadata": {
    "collapsed": false
   },
   "outputs": [
    {
     "name": "stdout",
     "output_type": "stream",
     "text": [
      "eric idle\n"
     ]
    }
   ],
   "source": [
    "movies=[\"the holy grail\",1975,\"terry jones & terry gilliam\",91,\n",
    "        [\"graham chapman\",\n",
    "         [\"michael palin\",\"john cleese\",\"terry gilliam\",\"eric idle\",\"terry johns\"]]]\n",
    "print(movies[4][1][3])"
   ]
  },
  {
   "cell_type": "code",
   "execution_count": 25,
   "metadata": {
    "collapsed": false
   },
   "outputs": [
    {
     "name": "stdout",
     "output_type": "stream",
     "text": [
      "['graham chapman', ['michael palin', 'john cleese', 'terry gilliam', 'eric idle', 'terry johns']]\n"
     ]
    }
   ],
   "source": [
    "print(movies[4])"
   ]
  },
  {
   "cell_type": "code",
   "execution_count": 26,
   "metadata": {
    "collapsed": false
   },
   "outputs": [
    {
     "name": "stdout",
     "output_type": "stream",
     "text": [
      "graham chapman\n"
     ]
    }
   ],
   "source": [
    "print(movies[4][0])"
   ]
  },
  {
   "cell_type": "code",
   "execution_count": 5,
   "metadata": {
    "collapsed": false
   },
   "outputs": [
    {
     "name": "stdout",
     "output_type": "stream",
     "text": [
      "the holy grail\n",
      "1975\n",
      "terry jones & terry gilliam\n",
      "91\n",
      "['graham chapman', ['michael palin', 'john cleese', 'terry gilliam', 'eric idle', 'terry johns']]\n"
     ]
    }
   ],
   "source": [
    "for each_item in movies:\n",
    "    print(each_item)"
   ]
  },
  {
   "cell_type": "code",
   "execution_count": 6,
   "metadata": {
    "collapsed": false
   },
   "outputs": [
    {
     "name": "stdout",
     "output_type": "stream",
     "text": [
      "the holy grail\n",
      "1975\n",
      "terry jones & terry gilliam\n",
      "91\n",
      "graham chapman\n",
      "['michael palin', 'john cleese', 'terry gilliam', 'eric idle', 'terry johns']\n"
     ]
    }
   ],
   "source": [
    "for each in movies:\n",
    "    if isinstance(each,list):\n",
    "        for every in each:\n",
    "            print(every)\n",
    "            \n",
    "    else:\n",
    "        print(each)"
   ]
  },
  {
   "cell_type": "code",
   "execution_count": 7,
   "metadata": {
    "collapsed": false
   },
   "outputs": [
    {
     "name": "stdout",
     "output_type": "stream",
     "text": [
      "Help on function <lambda> in module ipykernel.ipkernel:\n",
      "\n",
      "<lambda> lambda prompt=''\n",
      "\n"
     ]
    }
   ],
   "source": [
    "help(input)"
   ]
  },
  {
   "cell_type": "code",
   "execution_count": null,
   "metadata": {
    "collapsed": true
   },
   "outputs": [],
   "source": []
  },
  {
   "cell_type": "code",
   "execution_count": 11,
   "metadata": {
    "collapsed": false
   },
   "outputs": [
    {
     "name": "stdout",
     "output_type": "stream",
     "text": [
      "the holy grail\n",
      "1975\n",
      "terry jones & terry gilliam\n",
      "91\n",
      "graham chapman\n",
      "michael palin\n",
      "john cleese\n",
      "terry gilliam\n",
      "eric idle\n",
      "terry johns\n"
     ]
    }
   ],
   "source": [
    "for each in movies:\n",
    "    if isinstance(each,list):\n",
    "        for every in each:\n",
    "            if isinstance(every,list):\n",
    "             for deeper in every:\n",
    "              print(deeper)\n",
    "            else:\n",
    "                print(every)\n",
    "            \n",
    "    else:\n",
    "        print(each)"
   ]
  },
  {
   "cell_type": "code",
   "execution_count": 22,
   "metadata": {
    "collapsed": false
   },
   "outputs": [
    {
     "name": "stdout",
     "output_type": "stream",
     "text": [
      "the holy grail\n",
      "1975\n",
      "terry jones & terry gilliam\n",
      "91\n",
      "graham chapman\n",
      "michael palin\n",
      "john cleese\n",
      "terry gilliam\n",
      "eric idle\n",
      "terry johns\n"
     ]
    }
   ],
   "source": [
    "def print_lol(the_list):\n",
    "    '''缩进很重要，直接影响代码是否能正常运行,第一次使用注释'''\n",
    "    for each_item in the_list:\n",
    "      if isinstance(each_item,list):\n",
    "        print_lol(each_item)\n",
    "      else:\n",
    "        print(each_item)\n",
    "print_lol(movies)"
   ]
  },
  {
   "cell_type": "code",
   "execution_count": 17,
   "metadata": {
    "collapsed": false
   },
   "outputs": [
    {
     "name": "stdout",
     "output_type": "stream",
     "text": [
      "()\n"
     ]
    }
   ],
   "source": [
    "print()"
   ]
  },
  {
   "cell_type": "code",
   "execution_count": null,
   "metadata": {
    "collapsed": true
   },
   "outputs": [],
   "source": []
  }
 ],
 "metadata": {
  "kernelspec": {
   "display_name": "Python 2",
   "language": "python",
   "name": "python2"
  },
  "language_info": {
   "codemirror_mode": {
    "name": "ipython",
    "version": 2
   },
   "file_extension": ".py",
   "mimetype": "text/x-python",
   "name": "python",
   "nbconvert_exporter": "python",
   "pygments_lexer": "ipython2",
   "version": "2.7.11"
  }
 },
 "nbformat": 4,
 "nbformat_minor": 0
}
