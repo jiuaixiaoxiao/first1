{
 "cells": [
  {
   "cell_type": "code",
   "execution_count": 1,
   "metadata": {
    "collapsed": false
   },
   "outputs": [
    {
     "name": "stdout",
     "output_type": "stream",
     "text": [
      "['cleese', 'palin', 'jones', 'idle']\n"
     ]
    }
   ],
   "source": [
    "cast=[\"cleese\",\"palin\",\"jones\",\"idle\"]\n",
    "print(cast)"
   ]
  },
  {
   "cell_type": "code",
   "execution_count": 2,
   "metadata": {
    "collapsed": false
   },
   "outputs": [
    {
     "name": "stdout",
     "output_type": "stream",
     "text": [
      "4\n"
     ]
    }
   ],
   "source": [
    "print(len(cast))"
   ]
  },
  {
   "cell_type": "code",
   "execution_count": 3,
   "metadata": {
    "collapsed": false
   },
   "outputs": [
    {
     "name": "stdout",
     "output_type": "stream",
     "text": [
      "palin\n"
     ]
    }
   ],
   "source": [
    "print(cast[1])"
   ]
  },
  {
   "cell_type": "code",
   "execution_count": 4,
   "metadata": {
    "collapsed": false
   },
   "outputs": [
    {
     "name": "stdout",
     "output_type": "stream",
     "text": [
      "['cleese', 'palin', 'jones', 'idle', 'gilliam']\n"
     ]
    }
   ],
   "source": [
    "cast.append(\"gilliam\")\n",
    "print(cast)"
   ]
  },
  {
   "cell_type": "code",
   "execution_count": 5,
   "metadata": {
    "collapsed": false,
    "scrolled": false
   },
   "outputs": [
    {
     "data": {
      "text/plain": [
       "'gilliam'"
      ]
     },
     "execution_count": 5,
     "metadata": {},
     "output_type": "execute_result"
    }
   ],
   "source": [
    "cast.pop()"
   ]
  },
  {
   "cell_type": "code",
   "execution_count": 6,
   "metadata": {
    "collapsed": false
   },
   "outputs": [
    {
     "name": "stdout",
     "output_type": "stream",
     "text": [
      "['cleese', 'palin', 'jones', 'idle']\n"
     ]
    }
   ],
   "source": [
    "print(cast)"
   ]
  },
  {
   "cell_type": "code",
   "execution_count": 7,
   "metadata": {
    "collapsed": false
   },
   "outputs": [
    {
     "name": "stdout",
     "output_type": "stream",
     "text": [
      "['cleese', 'palin', 'jones', 'idle', 'gilliam', 'chapman']\n"
     ]
    }
   ],
   "source": [
    "cast.extend([\"gilliam\",\"chapman\"])\n",
    "print(cast)"
   ]
  },
  {
   "cell_type": "code",
   "execution_count": 8,
   "metadata": {
    "collapsed": false
   },
   "outputs": [
    {
     "name": "stdout",
     "output_type": "stream",
     "text": [
      "['cleese', 'palin', 'jones', 'idle', 'gilliam']\n"
     ]
    }
   ],
   "source": [
    "cast.remove(\"chapman\")\n",
    "print(cast)"
   ]
  },
  {
   "cell_type": "code",
   "execution_count": 9,
   "metadata": {
    "collapsed": false
   },
   "outputs": [
    {
     "name": "stdout",
     "output_type": "stream",
     "text": [
      "['chapman', 'cleese', 'palin', 'jones', 'idle', 'gilliam']\n"
     ]
    }
   ],
   "source": [
    "cast.insert(0,\"chapman\")\n",
    "print(cast)"
   ]
  },
  {
   "cell_type": "code",
   "execution_count": 11,
   "metadata": {
    "collapsed": false
   },
   "outputs": [
    {
     "name": "stdout",
     "output_type": "stream",
     "text": [
      "chapman\n",
      "cleese\n",
      "palin\n",
      "jones\n",
      "idle\n",
      "gilliam\n"
     ]
    }
   ],
   "source": [
    "for each in cast:\n",
    "    print(each)"
   ]
  },
  {
   "cell_type": "code",
   "execution_count": 12,
   "metadata": {
    "collapsed": false
   },
   "outputs": [
    {
     "name": "stdout",
     "output_type": "stream",
     "text": [
      "chapman\n",
      "cleese\n",
      "palin\n",
      "jones\n",
      "idle\n",
      "gilliam\n"
     ]
    }
   ],
   "source": [
    "count=0\n",
    "while count<len(cast):\n",
    "    print(cast[count])\n",
    "    count=count+1"
   ]
  },
  {
   "cell_type": "code",
   "execution_count": null,
   "metadata": {
    "collapsed": true
   },
   "outputs": [],
   "source": []
  }
 ],
 "metadata": {
  "kernelspec": {
   "display_name": "Python 2",
   "language": "python",
   "name": "python2"
  },
  "language_info": {
   "codemirror_mode": {
    "name": "ipython",
    "version": 2
   },
   "file_extension": ".py",
   "mimetype": "text/x-python",
   "name": "python",
   "nbconvert_exporter": "python",
   "pygments_lexer": "ipython2",
   "version": "2.7.11"
  }
 },
 "nbformat": 4,
 "nbformat_minor": 0
}
